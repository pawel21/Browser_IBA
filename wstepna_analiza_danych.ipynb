{
 "cells": [
  {
   "cell_type": "code",
   "execution_count": 2,
   "id": "ef1d224b-cf86-4d4c-a634-6716c503f8fc",
   "metadata": {},
   "outputs": [],
   "source": [
    "import folium\n",
    "import matplotlib.pyplot as plt\n",
    "import numpy as np\n",
    "import pandas as pd\n",
    "import wikipedia\n",
    "\n",
    "from geopy.geocoders import Nominatim\n",
    "\n",
    "import ipywidgets as widgets\n",
    "from IPython.display import display\n",
    "\n",
    "plt.rcParams.update({'font.size': 22})"
   ]
  },
  {
   "cell_type": "code",
   "execution_count": 3,
   "id": "82b08fcd-2938-4c03-9cad-5cf91470885f",
   "metadata": {},
   "outputs": [],
   "source": [
    "df = pd.read_excel(\"../przydzielanie kryteriow.xls\")"
   ]
  },
  {
   "cell_type": "code",
   "execution_count": 4,
   "id": "ea410fea-79dc-4bd0-b926-e7eea8fd6255",
   "metadata": {},
   "outputs": [
    {
     "data": {
      "text/html": [
       "<div>\n",
       "<style scoped>\n",
       "    .dataframe tbody tr th:only-of-type {\n",
       "        vertical-align: middle;\n",
       "    }\n",
       "\n",
       "    .dataframe tbody tr th {\n",
       "        vertical-align: top;\n",
       "    }\n",
       "\n",
       "    .dataframe thead th {\n",
       "        text-align: right;\n",
       "    }\n",
       "</style>\n",
       "<table border=\"1\" class=\"dataframe\">\n",
       "  <thead>\n",
       "    <tr style=\"text-align: right;\">\n",
       "      <th></th>\n",
       "      <th>ptak_nr</th>\n",
       "      <th>id</th>\n",
       "      <th>kod_ostoi</th>\n",
       "      <th>nazwa_ostoi</th>\n",
       "      <th>nazwa_polska</th>\n",
       "      <th>nazwa_lacinska</th>\n",
       "      <th>status</th>\n",
       "      <th>liczba_par_min</th>\n",
       "      <th>liczba_par_max</th>\n",
       "      <th>dokladnosc_oszac</th>\n",
       "      <th>kryterium</th>\n",
       "      <th>rok</th>\n",
       "      <th>aktualne</th>\n",
       "    </tr>\n",
       "  </thead>\n",
       "  <tbody>\n",
       "    <tr>\n",
       "      <th>0</th>\n",
       "      <td>34.0</td>\n",
       "      <td>3579</td>\n",
       "      <td>PL001</td>\n",
       "      <td>Delta Świny</td>\n",
       "      <td>bielaczek</td>\n",
       "      <td>Mergus albellus</td>\n",
       "      <td>NaN</td>\n",
       "      <td>815.0</td>\n",
       "      <td>1500.0</td>\n",
       "      <td>NaN</td>\n",
       "      <td>NaN</td>\n",
       "      <td>1995-2003</td>\n",
       "      <td>nie</td>\n",
       "    </tr>\n",
       "    <tr>\n",
       "      <th>1</th>\n",
       "      <td>36.0</td>\n",
       "      <td>3580</td>\n",
       "      <td>PL001</td>\n",
       "      <td>Delta Świny</td>\n",
       "      <td>nurogęś</td>\n",
       "      <td>Mergus merganser</td>\n",
       "      <td>M</td>\n",
       "      <td>5000.0</td>\n",
       "      <td>12000.0</td>\n",
       "      <td>NaN</td>\n",
       "      <td>NaN</td>\n",
       "      <td>1995-1997</td>\n",
       "      <td>nie</td>\n",
       "    </tr>\n",
       "    <tr>\n",
       "      <th>2</th>\n",
       "      <td>71.0</td>\n",
       "      <td>3581</td>\n",
       "      <td>PL001</td>\n",
       "      <td>Delta Świny</td>\n",
       "      <td>bielik</td>\n",
       "      <td>Haliaeetus albicilla</td>\n",
       "      <td>L</td>\n",
       "      <td>5.0</td>\n",
       "      <td>6.0</td>\n",
       "      <td>NaN</td>\n",
       "      <td>C1,C6</td>\n",
       "      <td>1990-2003</td>\n",
       "      <td>nie</td>\n",
       "    </tr>\n",
       "    <tr>\n",
       "      <th>3</th>\n",
       "      <td>57.0</td>\n",
       "      <td>3583</td>\n",
       "      <td>PL001</td>\n",
       "      <td>Delta Świny</td>\n",
       "      <td>bąk</td>\n",
       "      <td>Botaurus stellaris</td>\n",
       "      <td>L</td>\n",
       "      <td>3.0</td>\n",
       "      <td>7.0</td>\n",
       "      <td>NaN</td>\n",
       "      <td>NaN</td>\n",
       "      <td>1995-2003</td>\n",
       "      <td>nie</td>\n",
       "    </tr>\n",
       "    <tr>\n",
       "      <th>4</th>\n",
       "      <td>58.0</td>\n",
       "      <td>3584</td>\n",
       "      <td>PL001</td>\n",
       "      <td>Delta Świny</td>\n",
       "      <td>bączek</td>\n",
       "      <td>Ixobrychus minutus</td>\n",
       "      <td>L</td>\n",
       "      <td>0.0</td>\n",
       "      <td>3.0</td>\n",
       "      <td>NaN</td>\n",
       "      <td>NaN</td>\n",
       "      <td>1995-2003</td>\n",
       "      <td>tak</td>\n",
       "    </tr>\n",
       "  </tbody>\n",
       "</table>\n",
       "</div>"
      ],
      "text/plain": [
       "   ptak_nr    id kod_ostoi  nazwa_ostoi nazwa_polska        nazwa_lacinska  \\\n",
       "0     34.0  3579     PL001  Delta Świny    bielaczek       Mergus albellus   \n",
       "1     36.0  3580     PL001  Delta Świny      nurogęś      Mergus merganser   \n",
       "2     71.0  3581     PL001  Delta Świny       bielik  Haliaeetus albicilla   \n",
       "3     57.0  3583     PL001  Delta Świny          bąk    Botaurus stellaris   \n",
       "4     58.0  3584     PL001  Delta Świny       bączek    Ixobrychus minutus   \n",
       "\n",
       "  status  liczba_par_min  liczba_par_max dokladnosc_oszac kryterium  \\\n",
       "0    NaN           815.0          1500.0              NaN       NaN   \n",
       "1      M          5000.0         12000.0              NaN       NaN   \n",
       "2      L             5.0             6.0              NaN     C1,C6   \n",
       "3      L             3.0             7.0              NaN       NaN   \n",
       "4      L             0.0             3.0              NaN       NaN   \n",
       "\n",
       "         rok aktualne  \n",
       "0  1995-2003      nie  \n",
       "1  1995-1997      nie  \n",
       "2  1990-2003      nie  \n",
       "3  1995-2003      nie  \n",
       "4  1995-2003      tak  "
      ]
     },
     "execution_count": 4,
     "metadata": {},
     "output_type": "execute_result"
    }
   ],
   "source": [
    "df.head()"
   ]
  },
  {
   "cell_type": "code",
   "execution_count": 5,
   "id": "b0f340a1-16c0-484d-90a0-f6b323c757b9",
   "metadata": {},
   "outputs": [
    {
     "data": {
      "text/plain": [
       "Index(['ptak_nr', 'id', 'kod_ostoi', 'nazwa_ostoi', 'nazwa_polska',\n",
       "       'nazwa_lacinska', 'status', 'liczba_par_min', 'liczba_par_max',\n",
       "       'dokladnosc_oszac', 'kryterium', 'rok', 'aktualne'],\n",
       "      dtype='object')"
      ]
     },
     "execution_count": 5,
     "metadata": {},
     "output_type": "execute_result"
    }
   ],
   "source": [
    "df.keys()"
   ]
  },
  {
   "cell_type": "markdown",
   "id": "461a8c80-fbf0-41ca-9179-d8968cf42da9",
   "metadata": {},
   "source": [
    "# First, EDA"
   ]
  },
  {
   "cell_type": "code",
   "execution_count": 6,
   "id": "e6d8873d-cc32-405f-a2b4-93a808437438",
   "metadata": {},
   "outputs": [
    {
     "data": {
      "text/plain": [
       "<Axes: >"
      ]
     },
     "execution_count": 6,
     "metadata": {},
     "output_type": "execute_result"
    },
    {
     "data": {
      "image/png": "[encoded data removed]",
      "text/plain": [
       "<Figure size 640x480 with 1 Axes>"
      ]
     },
     "metadata": {},
     "output_type": "display_data"
    }
   ],
   "source": [
    "df['ptak_nr'].hist()"
   ]
  },
  {
   "cell_type": "code",
   "execution_count": 7,
   "id": "68c37280-b424-4548-a4e0-172d21df4537",
   "metadata": {},
   "outputs": [
    {
     "data": {
      "text/plain": [
       "<Axes: >"
      ]
     },
     "execution_count": 7,
     "metadata": {},
     "output_type": "execute_result"
    },
    {
     "data": {
      "image/png": "[encoded data removed]",
      "text/plain": [
       "<Figure size 640x480 with 1 Axes>"
      ]
     },
     "metadata": {},
     "output_type": "display_data"
    }
   ],
   "source": [
    "df['id'].hist()"
   ]
  },
  {
   "cell_type": "code",
   "execution_count": null,
   "id": "cdc9ea5e-4dbf-4bee-9009-e46b95433fad",
   "metadata": {},
   "outputs": [],
   "source": []
  },
  {
   "cell_type": "code",
   "execution_count": 11,
   "id": "89f5b7e6-651a-4b22-a6c4-11b6e6bd0b71",
   "metadata": {},
   "outputs": [
    {
     "data": {
      "text/plain": [
       "array([nan, 'M', 'L', 'P/Z', 'Z', 'L?', 'L/P'], dtype=object)"
      ]
     },
     "execution_count": 11,
     "metadata": {},
     "output_type": "execute_result"
    }
   ],
   "source": [
    "df['status'].unique()"
   ]
  },
  {
   "cell_type": "code",
   "execution_count": 19,
   "id": "ebf7addb-37d9-430a-93a6-8282c42d3831",
   "metadata": {},
   "outputs": [
    {
     "data": {
      "image/png": "[encoded data removed]",
      "text/plain": [
       "<Figure size 640x480 with 1 Axes>"
      ]
     },
     "metadata": {},
     "output_type": "display_data"
    }
   ],
   "source": [
    "fig, ax = plt.subplots()\n",
    "df['liczba_par_min'].hist(ax=ax, range=(0,500000))\n",
    "ax.set_yscale('log')"
   ]
  },
  {
   "cell_type": "code",
   "execution_count": 20,
   "id": "dd78e02a-6bd8-41d0-86eb-b467d1eb76e3",
   "metadata": {},
   "outputs": [
    {
     "data": {
      "image/png": "[encoded data removed]",
      "text/plain": [
       "<Figure size 640x480 with 1 Axes>"
      ]
     },
     "metadata": {},
     "output_type": "display_data"
    }
   ],
   "source": [
    "fig, ax = plt.subplots()\n",
    "df['liczba_par_max'].hist(ax=ax, range=(0,500000))\n",
    "ax.set_yscale('log')"
   ]
  },
  {
   "cell_type": "code",
   "execution_count": 7,
   "id": "408cb274-c9f7-4700-a007-542212e62892",
   "metadata": {},
   "outputs": [
    {
     "data": {
      "text/plain": [
       "837000.0"
      ]
     },
     "execution_count": 7,
     "metadata": {},
     "output_type": "execute_result"
    }
   ],
   "source": [
    "df['liczba_par_min'].max()"
   ]
  },
  {
   "cell_type": "markdown",
   "id": "c085429c-95c1-4c25-8cdd-c879485e4cc8",
   "metadata": {},
   "source": [
    "# Ostoje"
   ]
  },
  {
   "cell_type": "code",
   "execution_count": 11,
   "id": "8bafaef2-fc0f-4991-8b34-8bbf5a37aab1",
   "metadata": {},
   "outputs": [],
   "source": [
    "ostoje_array = df['nazwa_ostoi'].unique()\n",
    "wikipedia.set_lang(\"pl\")"
   ]
  },
  {
   "cell_type": "code",
   "execution_count": 12,
   "id": "5b53fd78-cc1d-438f-89dd-e8ea1be60cac",
   "metadata": {},
   "outputs": [
    {
     "name": "stdout",
     "output_type": "stream",
     "text": [
      "Delta Świny\t(Decimal('53.86666699999999963210939313285052776336669921875'), Decimal('14.3583330000000000126192389870993793010711669921875'))\n",
      "Zalew Szczeciński\t(Decimal('53.783332999999998946805135346949100494384765625'), Decimal('14.333332999999999657347871107049286365509033203125'))\n",
      "Puszcza Wkrzańska\t(Decimal('53.62694400000000172212821780703961849212646484375'), Decimal('14.355833000000000509999154019169509410858154296875'))\n",
      "Ostoja Świdwie\tNie znaleziono współrzednych\n",
      "Dolina Dolnej Odry\tNie znaleziono współrzednych\n",
      "Jeziora Wełtyńskie\tNie znaleziono współrzednych\n",
      "Ostoja Miedwie\tNie znaleziono współrzednych\n",
      "Ostoja Cedyńska\tNie znaleziono współrzednych\n",
      "Puszcza Goleniowska\tNie znaleziono współrzednych\n",
      "Bagna Rozwarowskie\tNie znaleziono współrzednych\n",
      "Zalew Kamieński i Dziwna\t(Decimal('53.9902780000000035443008528091013431549072265625'), Decimal('14.748611000000000359477780875749886035919189453125'))\n",
      "Ostoja Trzebiatowska\tNie znaleziono współrzednych\n",
      "Ostoja Witnicko-Dębniańska\t(Decimal('52.75833300000000036789060686714947223663330078125'), Decimal('14.7949999999999999289457264239899814128875732421875'))\n",
      "Puszcza Barlinecka\tNie znaleziono współrzednych\n",
      "Ostoja Ińska\t(Decimal('53.466667000000001053194864653050899505615234375'), Decimal('15.4666669999999992768380252528004348278045654296875'))\n",
      "Ostoja Drawska\tNie znaleziono współrzednych\n",
      "Lasy Puszczy nad Drawą\tNie znaleziono współrzednych\n",
      "Puszcza nad Gwdą\tNie znaleziono współrzednych\n",
      "Ostoja Słowińska\tNie znaleziono współrzednych\n",
      "Dolina Słupi\t(Decimal('54.301389000000000351064954884350299835205078125'), Decimal('17.24555600000000055160853662528097629547119140625'))\n",
      "Lasy Lęborskie\tNie znaleziono współrzednych\n",
      "Bielawskie Błota\tNie znaleziono współrzednych\n",
      "Puszcza Darżlubska\t(Decimal('54.658332999999998946805135346949100494384765625'), Decimal('18.266667000000001763737600413151085376739501953125'))\n",
      "Zatoka Pucka\t(Decimal('54.66666699999999678993845009244978427886962890625'), Decimal('18.583332999999999657347871107049286365509033203125'))\n",
      "Lasy Mirachowskie\tNie znaleziono współrzednych\n",
      "Bory Tucholskie\t(Decimal('53.82243600000000327554516843520104885101318359375'), Decimal('17.914342000000001320358933298848569393157958984375'))\n",
      "Ujście Wisły\tNie znaleziono współrzednych\n",
      "Dolina Dolnej Wisły\tNie znaleziono współrzednych\n",
      "Zalew Wiślany\t(Decimal('54.4500000000000028421709430404007434844970703125'), Decimal('19.75'))\n",
      "Jezioro Druzno\t(Decimal('54.0822220000000015716068446636199951171875'), Decimal('19.47861100000000078580342233180999755859375'))\n",
      "Lasy Iławskie\tNie znaleziono współrzednych\n",
      "Dolina Pasłęki\t(Decimal('53.74750000000000227373675443232059478759765625'), Decimal('20.235555999999998988414517953060567378997802734375'))\n",
      "Ostoja Warmińska\tNie znaleziono współrzednych\n",
      "Ostoja Oświn\t(Decimal('54.2999999999999971578290569595992565155029296875'), Decimal('21.583332999999999657347871107049286365509033203125'))\n",
      "Jezioro Dobskie\t"
     ]
    },
    {
     "name": "stderr",
     "output_type": "stream",
     "text": [
      "C:\\Users\\pawel.gliwny.FIS\\AppData\\Local\\miniconda3\\envs\\geo\\lib\\site-packages\\wikipedia\\wikipedia.py:389: GuessedAtParserWarning: No parser was explicitly specified, so I'm using the best available HTML parser for this system (\"html.parser\"). This usually isn't a problem, but if you run this code on another system, or in a different virtual environment, it may use a different parser and behave differently.\n",
      "\n",
      "The code that caused this warning is on line 389 of the file C:\\Users\\pawel.gliwny.FIS\\AppData\\Local\\miniconda3\\envs\\geo\\lib\\site-packages\\wikipedia\\wikipedia.py. To get rid of this warning, pass the additional argument 'features=\"html.parser\"' to the BeautifulSoup constructor.\n",
      "\n",
      "  lis = BeautifulSoup(html).find_all('li')\n"
     ]
    },
    {
     "name": "stdout",
     "output_type": "stream",
     "text": [
      "Nie znaleziono współrzednych\n",
      "Lasy Skaliskie\tNie znaleziono współrzednych\n",
      "Puszcza Borecka\t(Decimal('54.13388499999999936562744551338255405426025390625'), Decimal('22.09420000000000072759576141834259033203125'))\n",
      "Puszcza Napiwodzko-Ramucka\tNie znaleziono współrzednych\n",
      "Puszcza Piska\t(Decimal('53.667113999999997986378730274736881256103515625'), Decimal('21.44564199999999942747308523394167423248291015625'))\n",
      "Jezioro Łuknajno\t(Decimal('53.81666700000000247428033617325127124786376953125'), Decimal('21.63333300000000036789060686714947223663330078125'))\n",
      "Ostoja Poligon Orzysz\t(Decimal('53.611389000000002624801709316670894622802734375'), Decimal('22.063055999999999556848706561140716075897216796875'))\n",
      "Bagna Nietlickie\t(Decimal('53.88166700000000020054358174093067646026611328125'), Decimal('21.80111099999999879628376220352947711944580078125'))\n",
      "Puszcza Augustowska\t(Decimal('53.9093110000000024228938855230808258056640625'), Decimal('23.228207999999998634166331612505018711090087890625'))\n",
      "Dolina Biebrzy\tNie znaleziono współrzednych\n",
      "Puszcza Knyszyńska\t(Decimal('53.2141390000000029658622224815189838409423828125'), Decimal('23.436747000000000440422809333540499210357666015625'))\n",
      "Puszcza Białowieska\t(Decimal('52.64889600000000058344085118733346462249755859375'), Decimal('23.826370000000000715090209268964827060699462890625'))\n",
      "Niecka Gródecko-Michałowska\tNie znaleziono współrzednych\n",
      "Dolina Górnej Narwi\t(Decimal('52.9199780000000004065441316924989223480224609375'), Decimal('22.967347000000000178943082573823630809783935546875'))\n",
      "Bagienna Dolina Narwi\t(Decimal('53.07166699999999792680682730861008167266845703125'), Decimal('22.89999999999999857891452847979962825775146484375'))\n",
      "Bagno Wizna\t(Decimal('53.1511110000000002173692337237298488616943359375'), Decimal('22.462222000000000576847014599479734897613525390625'))\n",
      "Przełomowa Dolina Narwi\tNie znaleziono współrzednych\n",
      "Dolina Dolnej Narwi\tNie znaleziono współrzednych\n",
      "Doliny Omulwi i Płodownicy\tNie znaleziono współrzednych\n",
      "Doliny Wkry i Mławki\tNie znaleziono współrzednych\n",
      "Bagienna Dolina Drwęcy\t(Decimal('53.27000000000000312638803734444081783294677734375'), Decimal('19.36666699999999963210939313285052776336669921875'))\n",
      "Dolina Górnego Nurca\tNie znaleziono współrzednych\n",
      "Dolina Dolnego Bugu\tNie znaleziono współrzednych\n",
      "Puszcza Biała\t(Decimal('52.694243999999997640770743601024150848388671875'), Decimal('21.5528469999999998663042788393795490264892578125'))\n",
      "Dolina Liwca\tNie znaleziono współrzednych\n",
      "Dolina Kostrzynia\tNie znaleziono współrzednych\n",
      "Lasy Łukowskie\tNie znaleziono współrzednych\n",
      "Ujście Warty\t(Decimal('52.593333000000001220541889779269695281982421875'), Decimal('14.7483330000000005810534275951795279979705810546875'))\n",
      "Dolina Dolnej Noteci\tNie znaleziono współrzednych\n",
      "Nadnoteckie Łęgi\tNie znaleziono współrzednych\n",
      "Dolina Środkowej Noteci\tNie znaleziono współrzednych\n",
      "Puszcza Notecka\t(Decimal('52.77511100000000254794940701685845851898193359375'), Decimal('16.118027999999998911562215653248131275177001953125'))\n",
      "Dolina Samicy\tNie znaleziono współrzednych\n",
      "Dolina Małej Wełny\tNie znaleziono współrzednych\n",
      "Jeziora Pszczewskie i dolina Obry\tNie znaleziono współrzednych\n",
      "Jezioro Zgierzynieckie\t(Decimal('52.4533330000000006521077011711895465850830078125'), Decimal('16.25833300000000036789060686714947223663330078125'))\n",
      "Dolina Środkowej Odry\tNie znaleziono współrzednych\n",
      "Wielki Łęg Obrzański\t(Decimal('53.82243600000000327554516843520104885101318359375'), Decimal('17.914342000000001320358933298848569393157958984375'))\n",
      "Pojezierze Sławskie\tNie znaleziono współrzednych\n",
      "Zbiornik Wonieść\t(Decimal('52.00527799999999700730768381617963314056396484375'), Decimal('16.695277999999998286284608184359967708587646484375'))\n",
      "Ostoja Rogalińska\t(Decimal('52.18333299999999752571966382674872875213623046875'), Decimal('16.949999999999999289457264239899814128875732421875'))\n",
      "Dolina Środkowej Warty\t(Decimal('52.2444440000000014379111235029995441436767578125'), Decimal('18.96638899999999949841367197223007678985595703125'))\n",
      "Ostoja Nadgoplańska\t(Decimal('52.61361099999999879628376220352947711944580078125'), Decimal('18.358056000000001262151272385381162166595458984375'))\n",
      "Zbiornik Jeziorsko\t(Decimal('51.78694399999999831152308615855872631072998046875'), Decimal('18.658332999999998946805135346949100494384765625'))\n",
      "Dolina Neru\tNie znaleziono współrzednych\n",
      "Dolina Bzury\t(Decimal('52.03666700000000133741195895709097385406494140625'), Decimal('20.207778000000001128455551224760711193084716796875'))\n",
      "Błota Rakutowskie\t(Decimal('52.5183329999999983783709467388689517974853515625'), Decimal('19.253333000000001362650436931289732456207275390625'))\n",
      "Żwirownia Skoki\t(Decimal('53.06666700000000247428033617325127124786376953125'), Decimal('18.483332999999998236262399586848914623260498046875'))\n",
      "Dolina Środkowej Wisły\tNie znaleziono współrzednych\n",
      "Puszcza Kampinoska\t(Decimal('52.3255139999999983047018758952617645263671875'), Decimal('20.620855999999999852434484637342393398284912109375'))\n",
      "Bagno Całowanie\t(Decimal('52.01100600000000184763848665170371532440185546875'), Decimal('21.344280999999998726934791193343698978424072265625'))\n",
      "Bory Dolnośląskie\tNie znaleziono współrzednych\n",
      "Stawy Przemkowskie\tNie znaleziono współrzednych\n",
      "Zbiornik Mietkowski\t(Decimal('50.95861099999999765941538498736917972564697265625'), Decimal('16.618888999999999356305124820210039615631103515625'))\n",
      "Łęgi Odrzańskie\t(Decimal('51.4461000000000012732925824820995330810546875'), Decimal('16.443400000000000460431692772544920444488525390625'))\n",
      "Grądy Odrzańskie\tNie znaleziono współrzednych\n",
      "Zbiornik Turawski\t(Decimal('50.72194400000000058525984059087932109832763671875'), Decimal('18.128333000000001362650436931289732456207275390625'))\n",
      "Dolina Baryczy\t(Decimal('51.46119999999999805595507496036589145660400390625'), Decimal('17.161300000000000665068000671453773975372314453125'))\n",
      "Dąbrowy Krotoszyńskie\tNie znaleziono współrzednych\n",
      "Dolina Pilicy\t(Decimal('51.783332999999998946805135346949100494384765625'), Decimal('21.18638899999999836154529475606977939605712890625'))\n",
      "Puszcza Kozienicka\tNie znaleziono współrzednych\n",
      "Małopolski Przełom Wisły\tNie znaleziono współrzednych\n",
      "Dolina Nidy\tNie znaleziono współrzednych\n",
      "Dolina Tyśmienicy\tNie znaleziono współrzednych\n",
      "Lasy Parczewskie\tNie znaleziono współrzednych\n",
      "Zbiornik Podedworze\tNie znaleziono współrzednych\n",
      "Uroczystko Mosty-Zahajki\tNie znaleziono współrzednych\n",
      "Polesie\t(Decimal('52'), Decimal('27'))\n",
      "Bagno Bubnów\t(Decimal('51.35000000000000142108547152020037174224853515625'), Decimal('23.300000000000000710542735760100185871124267578125'))\n",
      "Dolina Środkowego Bugu\t(Decimal('51.37666699999999764258973300457000732421875'), Decimal('23.670832999999998236262399586848914623260498046875'))\n",
      "Chełmskie Torfowiska Węglanowe\tNie znaleziono współrzednych\n",
      "Lasy Strzeleckie\tNie znaleziono współrzednych\n",
      "Dolina Poru\tNie znaleziono współrzednych\n",
      "Zbiornik w Nieliszu\t(Decimal('50.79222200000000242425812757574021816253662109375'), Decimal('23.04083299999999923102222965098917484283447265625'))\n",
      "Lasy Janowskie\tNie znaleziono współrzednych\n",
      "Puszcza Solska\t(Decimal('50.50277799999999928104443824850022792816162109375'), Decimal('23.005832999999999088913682498969137668609619140625'))\n",
      "Roztocze\t(Decimal('50.61666699999999963210939313285052776336669921875'), Decimal('22.966667000000001053194864653050899505615234375'))\n",
      "Dolina Górnej Łabuńki\t(Decimal('50.7205560000000019726940081454813480377197265625'), Decimal('23.258610999999998369958120747469365596771240234375'))\n",
      "Ostoja Tyszowiecka\tNie znaleziono współrzednych\n",
      "Zlewnia Górnej Huczwy\tNie znaleziono współrzednych\n",
      "Dolina Szyszły\t(Decimal('50.42666700000000190584614756517112255096435546875'), Decimal('23.666667000000000342652128892950713634490966796875'))\n",
      "Dolina Sołokiji\tNie znaleziono współrzednych\n",
      "Karkonosze\tNie znaleziono współrzednych\n",
      "Góry Stołowe\tNie znaleziono współrzednych\n",
      "Zbiornik Otmuchowski\t(Decimal('50.46333299999999866258804104290902614593505859375'), Decimal('17.12222200000000071895556175149977207183837890625'))\n",
      "Zbiornik Nyski\t(Decimal('50.45750000000000312638803734444081783294677734375'), Decimal('17.280833000000001220541889779269695281982421875'))\n",
      "Stawy Wielikąt i Las Tworkowski\tNie znaleziono współrzednych\n",
      "Dolina Górnej Wisły\tNie znaleziono współrzednych\n",
      "Stawy w Brzeszczach\t(Decimal('49.98055599999999998317434801720082759857177734375'), Decimal('19.1519440000000003010427462868392467498779296875'))\n",
      "Dolina Dolnej Soły\tNie znaleziono współrzednych\n",
      "Dolina Dolnej Skawy\t(Decimal('50.011110999999999648935045115649700164794921875'), Decimal('19.448333000000001646867531235329806804656982421875'))\n",
      "Puszcza Niepołomicka\tNie znaleziono współrzednych\n",
      "Beskid Żywiecki\t(Decimal('49.5133330000000029258444556035101413726806640625'), Decimal('19.17361100000000107002051663585007190704345703125'))\n",
      "Babia Góra\t(Decimal('49.57333299999999809415385243482887744903564453125'), Decimal('19.529444000000001580019670655019581317901611328125'))\n",
      "Pasmo Policy\tNie znaleziono współrzednych\n",
      "Torfowiska Orawsko-Nowotarskie\t(Decimal('49.44500000000000028421709430404007434844970703125'), Decimal('19.791667000000000342652128892950713634490966796875'))\n",
      "Tatry\t(Decimal('49.1777780000000035443008528091013431549072265625'), Decimal('19.908332999999998946805135346949100494384765625'))\n",
      "Gorce\t(Decimal('49.56666700000000247428033617325127124786376953125'), Decimal('20.166667000000000342652128892950713634490966796875'))\n",
      "Pieniny\tNie znaleziono współrzednych\n",
      "Beskid Niski\tNie znaleziono współrzednych\n",
      "Pogórze Przemyskie\tNie znaleziono współrzednych\n",
      "Góry Słonne\tNie znaleziono współrzednych\n",
      "Bieszczady\tNie znaleziono współrzednych\n",
      "BAGNO PULWY\t(Decimal('52.72972200000000242425812757574021816253662109375'), Decimal('21.433333000000001078433342627249658107757568359375'))\n",
      "BESKID ŚLĄSKI\tNie znaleziono współrzednych\n",
      "BESKID WYSPOWY\tNie znaleziono współrzednych\n",
      "BUCZYNY GRZĘDY SOKALSKIEJ\tNie znaleziono współrzednych\n",
      "DOLINA CZARNEJ\t(Decimal('49.24194399999999660622052033431828022003173828125'), Decimal('20.0038890000000009194991434924304485321044921875'))\n",
      "DOLINA DOLNEGO SANU\tNie znaleziono współrzednych\n",
      "DOLINA DOLNEGO WIEPRZA\tNie znaleziono współrzednych\n",
      "DOLINA PRZYSOWY i SŁUDWI\tNie znaleziono współrzednych\n",
      "Dolina Widawy i Oleśnicy\tNie znaleziono współrzednych\n",
      "Góry Izerskie\tNie znaleziono współrzednych\n",
      "Jezioro Karaś\t(Decimal('53.55833299999999752571966382674872875213623046875'), Decimal('19.47666699999999906367520452477037906646728515625'))\n",
      "Kuźnica Warężyńska\tNie znaleziono współrzednych\n",
      "Lasy Radłowskie\t(Decimal('49.988889000000000351064954884350299835205078125'), Decimal('20.7650000000000005684341886080801486968994140625'))\n",
      "Lasy Sieniawskie\t(Decimal('50.19500000000000028421709430404007434844970703125'), Decimal('22.841667000000001053194864653050899505615234375'))\n",
      "Mierzeja Wiślana\t(Decimal('54.36176199999999880674295127391815185546875'), Decimal('19.34246900000000124464349937625229358673095703125'))\n",
      "Niecka Włoszczowska\tNie znaleziono współrzednych\n",
      "Ostoja Konińska\tNie znaleziono współrzednych\n",
      "Ostoja Kurpiowska\tNie znaleziono współrzednych\n",
      "Ostoja Kwiecewo\tNie znaleziono współrzednych\n",
      "Ostoja Mircze\tNie znaleziono współrzednych\n",
      "Ostoja Popradzka\t(Decimal('49.43333299999999752571966382674872875213623046875'), Decimal('20.816666999999998921566657372750341892242431640625'))\n",
      "Ostoja Sątopy-Samulewo\tNie znaleziono współrzednych\n",
      "Potorfia nad Wieprzem\tNie znaleziono współrzednych\n",
      "Półwysep Helski\t(Decimal('54.717883000000000492946128360927104949951171875'), Decimal('18.63247700000000151021595229394733905792236328125'))\n",
      "Puszcza Sandomierska\tNie znaleziono współrzednych\n",
      "Stawy Jaktorów i Kraśnicza Wola\tNie znaleziono współrzednych\n",
      "Sudety Wałbrzysko-Kamiennogórskie\tNie znaleziono współrzednych\n",
      "Świętokrzyska Dolina Wisły\tNie znaleziono współrzednych\n",
      "Wrocławskie Pola Irygacyjne\t(Decimal('51.17885799999999818510332261212170124053955078125'), Decimal('16.973532999999999759666025056503713130950927734375'))\n",
      "Wysoczyzna Elbląska\t(Decimal('54.26723299999999738929545856080949306488037109375'), Decimal('19.66793799999999947658579912967979907989501953125'))\n",
      "Struga Średzka\tNie znaleziono współrzednych\n",
      "Zbiornik Siemianówka\t(Decimal('52.92611099999999879628376220352947711944580078125'), Decimal('23.8275000000000005684341886080801486968994140625'))\n",
      "Ławica Słupska\tNie znaleziono współrzednych\n",
      "Przybrzeżne Wody Bałtyku\tNie znaleziono współrzednych\n",
      "Zatoka Pomorska\t(Decimal('54'), Decimal('14.333332999999999657347871107049286365509033203125'))\n",
      "Wschodnie Wody Przygraniczne\t(Decimal('31'), Decimal('35'))\n"
     ]
    }
   ],
   "source": [
    "for ostoja in ostoje_array:\n",
    "    print(ostoja, end=\"\\t\")\n",
    "    try:\n",
    "        p = wikipedia.page(ostoja)\n",
    "        print(p.coordinates)\n",
    "    except:\n",
    "        print(\"Nie znaleziono współrzednych\")"
   ]
  },
  {
   "cell_type": "code",
   "execution_count": 10,
   "id": "fedcfb79-26af-4051-a158-b3e785f2809b",
   "metadata": {},
   "outputs": [],
   "source": [
    "df_bielik = df[df['nazwa_polska'] == \"bielik\"]"
   ]
  },
  {
   "cell_type": "code",
   "execution_count": 11,
   "id": "d9a3c010-c850-4129-8443-4f25af1b1187",
   "metadata": {},
   "outputs": [
    {
     "data": {
      "text/plain": [
       "array(['2004-2009', '2005-2007', '2004-2008', '2002-2008', '2005-2009',\n",
       "       '2007-2008', '2007-2009', '1995-2008', '2008', '1997-2003',\n",
       "       '1995-2003', '2008-2009', '2009', '1996-2003', '2001-2004, 2008',\n",
       "       '2001-2004, 2009', '2003-2009', '2006-2009', '2000-2003',\n",
       "       '2001-2002', '2005-2008', '1999-2003', '2006', '2007', '1998-2009',\n",
       "       '2003-2007', '2004-2005', '2002-2009', '2006-2007', '2000-2009',\n",
       "       '2004-2006'], dtype=object)"
      ]
     },
     "execution_count": 11,
     "metadata": {},
     "output_type": "execute_result"
    }
   ],
   "source": [
    "df_bielik[df_bielik['dokladnosc_oszac'] == \"dokładne liczenie\"][\"rok\"].unique()"
   ]
  },
  {
   "cell_type": "code",
   "execution_count": 12,
   "id": "35c26e55-5ec5-4f61-bca9-4a70ce715f49",
   "metadata": {},
   "outputs": [],
   "source": [
    "def get_df_ptak(nazwa_ptaka, nazwa_ostoi):\n",
    "    df_ptak = df[(df['nazwa_polska'] == nazwa_ptaka) & (df['dokladnosc_oszac'] == \"dokładne liczenie\")]\n",
    "    df_ptak = df_ptak[df['nazwa_ostoi'] == nazwa_ostoi]\n",
    "    return df_ptak"
   ]
  },
  {
   "cell_type": "code",
   "execution_count": 13,
   "id": "da408e80-b839-4ac0-886f-e53b012d59ae",
   "metadata": {},
   "outputs": [
    {
     "name": "stderr",
     "output_type": "stream",
     "text": [
      "C:\\Users\\pawel.gliwny.FIS\\AppData\\Local\\Temp\\ipykernel_6696\\2011041227.py:3: UserWarning: Boolean Series key will be reindexed to match DataFrame index.\n",
      "  df_ptak = df_ptak[df['nazwa_ostoi'] == nazwa_ostoi]\n"
     ]
    }
   ],
   "source": [
    "df_bielik = get_df_ptak(\"bielik\", \"Puszcza Borecka\")"
   ]
  },
  {
   "cell_type": "code",
   "execution_count": 14,
   "id": "3333809c-d3df-4f44-8d1c-bc30fac1cc47",
   "metadata": {},
   "outputs": [
    {
     "data": {
      "text/plain": [
       "array(['Puszcza Borecka'], dtype=object)"
      ]
     },
     "execution_count": 14,
     "metadata": {},
     "output_type": "execute_result"
    }
   ],
   "source": [
    "df_bielik[df_bielik['dokladnosc_oszac'] == \"dokładne liczenie\"][\"nazwa_ostoi\"].unique()"
   ]
  },
  {
   "cell_type": "code",
   "execution_count": null,
   "id": "fa06a842-320d-4960-870a-93890f6b8b6e",
   "metadata": {},
   "outputs": [],
   "source": []
  },
  {
   "cell_type": "code",
   "execution_count": 15,
   "id": "082fd8c9-8747-4802-917b-3fefcdbf0d4b",
   "metadata": {},
   "outputs": [],
   "source": [
    "df_nuroges = df[df['nazwa_polska'] == \"nurogęś\"]"
   ]
  },
  {
   "cell_type": "code",
   "execution_count": 16,
   "id": "1ebb8483-00ea-4241-9399-cda52df1a329",
   "metadata": {},
   "outputs": [
    {
     "data": {
      "text/html": [
       "<div>\n",
       "<style scoped>\n",
       "    .dataframe tbody tr th:only-of-type {\n",
       "        vertical-align: middle;\n",
       "    }\n",
       "\n",
       "    .dataframe tbody tr th {\n",
       "        vertical-align: top;\n",
       "    }\n",
       "\n",
       "    .dataframe thead th {\n",
       "        text-align: right;\n",
       "    }\n",
       "</style>\n",
       "<table border=\"1\" class=\"dataframe\">\n",
       "  <thead>\n",
       "    <tr style=\"text-align: right;\">\n",
       "      <th></th>\n",
       "      <th>ptak_nr</th>\n",
       "      <th>id</th>\n",
       "      <th>kod_ostoi</th>\n",
       "      <th>nazwa_ostoi</th>\n",
       "      <th>nazwa_polska</th>\n",
       "      <th>nazwa_lacinska</th>\n",
       "      <th>status</th>\n",
       "      <th>liczba_par_min</th>\n",
       "      <th>liczba_par_max</th>\n",
       "      <th>dokladnosc_oszac</th>\n",
       "      <th>kryterium</th>\n",
       "      <th>rok</th>\n",
       "      <th>aktualne</th>\n",
       "    </tr>\n",
       "  </thead>\n",
       "  <tbody>\n",
       "    <tr>\n",
       "      <th>1</th>\n",
       "      <td>36.0</td>\n",
       "      <td>3580</td>\n",
       "      <td>PL001</td>\n",
       "      <td>Delta Świny</td>\n",
       "      <td>nurogęś</td>\n",
       "      <td>Mergus merganser</td>\n",
       "      <td>M</td>\n",
       "      <td>5000.0</td>\n",
       "      <td>12000.0</td>\n",
       "      <td>NaN</td>\n",
       "      <td>NaN</td>\n",
       "      <td>1995-1997</td>\n",
       "      <td>nie</td>\n",
       "    </tr>\n",
       "    <tr>\n",
       "      <th>60</th>\n",
       "      <td>36.0</td>\n",
       "      <td>12210</td>\n",
       "      <td>PL001</td>\n",
       "      <td>Delta Świny</td>\n",
       "      <td>nurogęś</td>\n",
       "      <td>Mergus merganser</td>\n",
       "      <td>P/Z</td>\n",
       "      <td>5000.0</td>\n",
       "      <td>14000.0</td>\n",
       "      <td>przybliżony szacunek</td>\n",
       "      <td>NaN</td>\n",
       "      <td>2004-2009</td>\n",
       "      <td>tak</td>\n",
       "    </tr>\n",
       "    <tr>\n",
       "      <th>104</th>\n",
       "      <td>36.0</td>\n",
       "      <td>3628</td>\n",
       "      <td>PL002</td>\n",
       "      <td>Zalew Szczeciński</td>\n",
       "      <td>nurogęś</td>\n",
       "      <td>Mergus merganser</td>\n",
       "      <td>M</td>\n",
       "      <td>10000.0</td>\n",
       "      <td>50000.0</td>\n",
       "      <td>NaN</td>\n",
       "      <td>C3,C4</td>\n",
       "      <td>1997-1999</td>\n",
       "      <td>nie</td>\n",
       "    </tr>\n",
       "    <tr>\n",
       "      <th>163</th>\n",
       "      <td>36.0</td>\n",
       "      <td>12418</td>\n",
       "      <td>PL002</td>\n",
       "      <td>Zalew Szczeciński</td>\n",
       "      <td>nurogęś</td>\n",
       "      <td>Mergus merganser</td>\n",
       "      <td>M</td>\n",
       "      <td>30000.0</td>\n",
       "      <td>50000.0</td>\n",
       "      <td>przybliżony szacunek</td>\n",
       "      <td>NaN</td>\n",
       "      <td>2004-2009</td>\n",
       "      <td>tak</td>\n",
       "    </tr>\n",
       "    <tr>\n",
       "      <th>164</th>\n",
       "      <td>36.0</td>\n",
       "      <td>12419</td>\n",
       "      <td>PL002</td>\n",
       "      <td>Zalew Szczeciński</td>\n",
       "      <td>nurogęś</td>\n",
       "      <td>Mergus merganser</td>\n",
       "      <td>Z</td>\n",
       "      <td>30000.0</td>\n",
       "      <td>30000.0</td>\n",
       "      <td>dokładne liczenie</td>\n",
       "      <td>NaN</td>\n",
       "      <td>2004-2009</td>\n",
       "      <td>tak</td>\n",
       "    </tr>\n",
       "  </tbody>\n",
       "</table>\n",
       "</div>"
      ],
      "text/plain": [
       "     ptak_nr     id kod_ostoi        nazwa_ostoi nazwa_polska  \\\n",
       "1       36.0   3580     PL001        Delta Świny      nurogęś   \n",
       "60      36.0  12210     PL001        Delta Świny      nurogęś   \n",
       "104     36.0   3628     PL002  Zalew Szczeciński      nurogęś   \n",
       "163     36.0  12418     PL002  Zalew Szczeciński      nurogęś   \n",
       "164     36.0  12419     PL002  Zalew Szczeciński      nurogęś   \n",
       "\n",
       "       nazwa_lacinska status  liczba_par_min  liczba_par_max  \\\n",
       "1    Mergus merganser      M          5000.0         12000.0   \n",
       "60   Mergus merganser    P/Z          5000.0         14000.0   \n",
       "104  Mergus merganser      M         10000.0         50000.0   \n",
       "163  Mergus merganser      M         30000.0         50000.0   \n",
       "164  Mergus merganser      Z         30000.0         30000.0   \n",
       "\n",
       "         dokladnosc_oszac kryterium        rok aktualne  \n",
       "1                     NaN       NaN  1995-1997      nie  \n",
       "60   przybliżony szacunek       NaN  2004-2009      tak  \n",
       "104                   NaN     C3,C4  1997-1999      nie  \n",
       "163  przybliżony szacunek       NaN  2004-2009      tak  \n",
       "164     dokładne liczenie       NaN  2004-2009      tak  "
      ]
     },
     "execution_count": 16,
     "metadata": {},
     "output_type": "execute_result"
    }
   ],
   "source": [
    "df_nuroges.head()"
   ]
  },
  {
   "cell_type": "code",
   "execution_count": 55,
   "id": "421e5c88-f7a5-405b-a823-20bdfd4544d6",
   "metadata": {
    "scrolled": true
   },
   "outputs": [],
   "source": [
    "df = pd.DataFrame([\n",
    "    ['apple', 4],\n",
    "    ['apple', 4.5],\n",
    "    ['orange', 5],\n",
    "    ['pear', 6],\n",
    "], columns=['fruit', 'price'])"
   ]
  },
  {
   "cell_type": "code",
   "execution_count": 56,
   "id": "f95ccaab-4e53-435b-b97e-a6c42618eaca",
   "metadata": {},
   "outputs": [
    {
     "data": {
      "application/vnd.jupyter.widget-view+json": {
       "model_id": "e91a6b03f93740bea9045f90bd53eba1",
       "version_major": 2,
       "version_minor": 0
      },
      "text/plain": [
       "interactive(children=(Select(description='fruit', options=('apple', 'orange', 'pear'), value='apple'), Output(…"
      ]
     },
     "execution_count": 56,
     "metadata": {},
     "output_type": "execute_result"
    }
   ],
   "source": [
    "def view1(fruit):\n",
    "    display(df[df['fruit']==fruit])\n",
    "\n",
    "fruitSelect = widgets.Select(options=['apple', 'orange' ,'pear'])\n",
    "widgets.interactive(view1, fruit=fruitSelect)"
   ]
  },
  {
   "cell_type": "code",
   "execution_count": 57,
   "id": "2136002e-ba4f-4ed4-b1e8-a770230bb247",
   "metadata": {},
   "outputs": [
    {
     "data": {
      "application/vnd.jupyter.widget-view+json": {
       "model_id": "69d6af25c7534b118ed4ab167c80eb30",
       "version_major": 2,
       "version_minor": 0
      },
      "text/plain": [
       "interactive(children=(Select(description='rok', options=('1995-1997', '1997-1999', '2004-2009'), value='1995-1…"
      ]
     },
     "execution_count": 57,
     "metadata": {},
     "output_type": "execute_result"
    }
   ],
   "source": [
    "def view_ptak(rok):\n",
    "    display(df_nuroges[df_nuroges['rok'] == rok])\n",
    "\n",
    "rokSelect = widgets.Select(options=['1995-1997', '1997-1999', '2004-2009'])\n",
    "widgets.interactive(view_ptak, rok=rokSelect)"
   ]
  },
  {
   "cell_type": "code",
   "execution_count": null,
   "id": "b6a0cde1-797c-4749-b2a3-52b7d7c0118b",
   "metadata": {},
   "outputs": [],
   "source": []
  }
 ],
 "metadata": {
  "kernelspec": {
   "display_name": "Python 3 (ipykernel)",
   "language": "python",
   "name": "python3"
  },
  "language_info": {
   "codemirror_mode": {
    "name": "ipython",
    "version": 3
   },
   "file_extension": ".py",
   "mimetype": "text/x-python",
   "name": "python",
   "nbconvert_exporter": "python",
   "pygments_lexer": "ipython3",
   "version": "3.8.18"
  }
 },
 "nbformat": 4,
 "nbformat_minor": 5
}
