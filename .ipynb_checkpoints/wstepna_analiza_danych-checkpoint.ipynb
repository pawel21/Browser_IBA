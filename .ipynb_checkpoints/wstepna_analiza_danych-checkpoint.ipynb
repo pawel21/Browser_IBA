{
 "cells": [
  {
   "cell_type": "code",
   "execution_count": 40,
   "id": "ef1d224b-cf86-4d4c-a634-6716c503f8fc",
   "metadata": {},
   "outputs": [],
   "source": [
    "import folium\n",
    "import matplotlib.pyplot as plt\n",
    "import numpy as np\n",
    "import pandas as pd\n",
    "\n",
    "from geopy.geocoders import Nominatim\n",
    "\n",
    "import ipywidgets as widgets\n",
    "from IPython.display import display\n",
    "\n",
    "plt.rcParams.update({'font.size': 22})"
   ]
  },
  {
   "cell_type": "code",
   "execution_count": 41,
   "id": "82b08fcd-2938-4c03-9cad-5cf91470885f",
   "metadata": {},
   "outputs": [],
   "source": [
    "df = pd.read_excel(\"../przydzielanie kryteriow.xls\")"
   ]
  },
  {
   "cell_type": "code",
   "execution_count": 42,
   "id": "ea410fea-79dc-4bd0-b926-e7eea8fd6255",
   "metadata": {},
   "outputs": [
    {
     "data": {
      "text/html": [
       "<div>\n",
       "<style scoped>\n",
       "    .dataframe tbody tr th:only-of-type {\n",
       "        vertical-align: middle;\n",
       "    }\n",
       "\n",
       "    .dataframe tbody tr th {\n",
       "        vertical-align: top;\n",
       "    }\n",
       "\n",
       "    .dataframe thead th {\n",
       "        text-align: right;\n",
       "    }\n",
       "</style>\n",
       "<table border=\"1\" class=\"dataframe\">\n",
       "  <thead>\n",
       "    <tr style=\"text-align: right;\">\n",
       "      <th></th>\n",
       "      <th>ptak_nr</th>\n",
       "      <th>id</th>\n",
       "      <th>kod_ostoi</th>\n",
       "      <th>nazwa_ostoi</th>\n",
       "      <th>nazwa_polska</th>\n",
       "      <th>nazwa_lacinska</th>\n",
       "      <th>status</th>\n",
       "      <th>liczba_par_min</th>\n",
       "      <th>liczba_par_max</th>\n",
       "      <th>dokladnosc_oszac</th>\n",
       "      <th>kryterium</th>\n",
       "      <th>rok</th>\n",
       "      <th>aktualne</th>\n",
       "    </tr>\n",
       "  </thead>\n",
       "  <tbody>\n",
       "    <tr>\n",
       "      <th>0</th>\n",
       "      <td>34.0</td>\n",
       "      <td>3579</td>\n",
       "      <td>PL001</td>\n",
       "      <td>Delta Świny</td>\n",
       "      <td>bielaczek</td>\n",
       "      <td>Mergus albellus</td>\n",
       "      <td>NaN</td>\n",
       "      <td>815.0</td>\n",
       "      <td>1500.0</td>\n",
       "      <td>NaN</td>\n",
       "      <td>NaN</td>\n",
       "      <td>1995-2003</td>\n",
       "      <td>nie</td>\n",
       "    </tr>\n",
       "    <tr>\n",
       "      <th>1</th>\n",
       "      <td>36.0</td>\n",
       "      <td>3580</td>\n",
       "      <td>PL001</td>\n",
       "      <td>Delta Świny</td>\n",
       "      <td>nurogęś</td>\n",
       "      <td>Mergus merganser</td>\n",
       "      <td>M</td>\n",
       "      <td>5000.0</td>\n",
       "      <td>12000.0</td>\n",
       "      <td>NaN</td>\n",
       "      <td>NaN</td>\n",
       "      <td>1995-1997</td>\n",
       "      <td>nie</td>\n",
       "    </tr>\n",
       "    <tr>\n",
       "      <th>2</th>\n",
       "      <td>71.0</td>\n",
       "      <td>3581</td>\n",
       "      <td>PL001</td>\n",
       "      <td>Delta Świny</td>\n",
       "      <td>bielik</td>\n",
       "      <td>Haliaeetus albicilla</td>\n",
       "      <td>L</td>\n",
       "      <td>5.0</td>\n",
       "      <td>6.0</td>\n",
       "      <td>NaN</td>\n",
       "      <td>C1,C6</td>\n",
       "      <td>1990-2003</td>\n",
       "      <td>nie</td>\n",
       "    </tr>\n",
       "    <tr>\n",
       "      <th>3</th>\n",
       "      <td>57.0</td>\n",
       "      <td>3583</td>\n",
       "      <td>PL001</td>\n",
       "      <td>Delta Świny</td>\n",
       "      <td>bąk</td>\n",
       "      <td>Botaurus stellaris</td>\n",
       "      <td>L</td>\n",
       "      <td>3.0</td>\n",
       "      <td>7.0</td>\n",
       "      <td>NaN</td>\n",
       "      <td>NaN</td>\n",
       "      <td>1995-2003</td>\n",
       "      <td>nie</td>\n",
       "    </tr>\n",
       "    <tr>\n",
       "      <th>4</th>\n",
       "      <td>58.0</td>\n",
       "      <td>3584</td>\n",
       "      <td>PL001</td>\n",
       "      <td>Delta Świny</td>\n",
       "      <td>bączek</td>\n",
       "      <td>Ixobrychus minutus</td>\n",
       "      <td>L</td>\n",
       "      <td>0.0</td>\n",
       "      <td>3.0</td>\n",
       "      <td>NaN</td>\n",
       "      <td>NaN</td>\n",
       "      <td>1995-2003</td>\n",
       "      <td>tak</td>\n",
       "    </tr>\n",
       "  </tbody>\n",
       "</table>\n",
       "</div>"
      ],
      "text/plain": [
       "   ptak_nr    id kod_ostoi  nazwa_ostoi nazwa_polska        nazwa_lacinska  \\\n",
       "0     34.0  3579     PL001  Delta Świny    bielaczek       Mergus albellus   \n",
       "1     36.0  3580     PL001  Delta Świny      nurogęś      Mergus merganser   \n",
       "2     71.0  3581     PL001  Delta Świny       bielik  Haliaeetus albicilla   \n",
       "3     57.0  3583     PL001  Delta Świny          bąk    Botaurus stellaris   \n",
       "4     58.0  3584     PL001  Delta Świny       bączek    Ixobrychus minutus   \n",
       "\n",
       "  status  liczba_par_min  liczba_par_max dokladnosc_oszac kryterium  \\\n",
       "0    NaN           815.0          1500.0              NaN       NaN   \n",
       "1      M          5000.0         12000.0              NaN       NaN   \n",
       "2      L             5.0             6.0              NaN     C1,C6   \n",
       "3      L             3.0             7.0              NaN       NaN   \n",
       "4      L             0.0             3.0              NaN       NaN   \n",
       "\n",
       "         rok aktualne  \n",
       "0  1995-2003      nie  \n",
       "1  1995-1997      nie  \n",
       "2  1990-2003      nie  \n",
       "3  1995-2003      nie  \n",
       "4  1995-2003      tak  "
      ]
     },
     "execution_count": 42,
     "metadata": {},
     "output_type": "execute_result"
    }
   ],
   "source": [
    "df.head()"
   ]
  },
  {
   "cell_type": "code",
   "execution_count": 8,
   "id": "b0f340a1-16c0-484d-90a0-f6b323c757b9",
   "metadata": {},
   "outputs": [
    {
     "data": {
      "text/plain": [
       "Index(['ptak_nr', 'id', 'kod_ostoi', 'nazwa_ostoi', 'nazwa_polska',\n",
       "       'nazwa_lacinska', 'status', 'liczba_par_min', 'liczba_par_max',\n",
       "       'dokladnosc_oszac', 'kryterium', 'rok', 'aktualne'],\n",
       "      dtype='object')"
      ]
     },
     "execution_count": 8,
     "metadata": {},
     "output_type": "execute_result"
    }
   ],
   "source": [
    "df.keys()"
   ]
  },
  {
   "cell_type": "code",
   "execution_count": 9,
   "id": "8bafaef2-fc0f-4991-8b34-8bbf5a37aab1",
   "metadata": {},
   "outputs": [
    {
     "data": {
      "text/plain": [
       "array(['Delta Świny', 'Zalew Szczeciński', 'Puszcza Wkrzańska',\n",
       "       'Ostoja Świdwie', 'Dolina Dolnej Odry', 'Jeziora Wełtyńskie',\n",
       "       'Ostoja Miedwie', 'Ostoja Cedyńska', 'Puszcza Goleniowska',\n",
       "       'Bagna Rozwarowskie', 'Zalew Kamieński i Dziwna',\n",
       "       'Ostoja Trzebiatowska', 'Ostoja Witnicko-Dębniańska',\n",
       "       'Puszcza Barlinecka', 'Ostoja Ińska', 'Ostoja Drawska',\n",
       "       'Lasy Puszczy nad Drawą', 'Puszcza nad Gwdą', 'Ostoja Słowińska',\n",
       "       'Dolina Słupi', 'Lasy Lęborskie', 'Bielawskie Błota',\n",
       "       'Puszcza Darżlubska', 'Zatoka Pucka', 'Lasy Mirachowskie',\n",
       "       'Bory Tucholskie', 'Ujście Wisły', 'Dolina Dolnej Wisły',\n",
       "       'Zalew Wiślany', 'Jezioro Druzno', 'Lasy Iławskie',\n",
       "       'Dolina Pasłęki', 'Ostoja Warmińska', 'Ostoja Oświn',\n",
       "       'Jezioro Dobskie', 'Lasy Skaliskie', 'Puszcza Borecka',\n",
       "       'Puszcza Napiwodzko-Ramucka', 'Puszcza Piska', 'Jezioro Łuknajno',\n",
       "       'Ostoja Poligon Orzysz', 'Bagna Nietlickie', 'Puszcza Augustowska',\n",
       "       'Dolina Biebrzy', 'Puszcza Knyszyńska', 'Puszcza Białowieska',\n",
       "       'Niecka Gródecko-Michałowska', 'Dolina Górnej Narwi',\n",
       "       'Bagienna Dolina Narwi', 'Bagno Wizna', 'Przełomowa Dolina Narwi',\n",
       "       'Dolina Dolnej Narwi', 'Doliny Omulwi i Płodownicy',\n",
       "       'Doliny Wkry i Mławki', 'Bagienna Dolina Drwęcy',\n",
       "       'Dolina Górnego Nurca', 'Dolina Dolnego Bugu', 'Puszcza Biała',\n",
       "       'Dolina Liwca', 'Dolina Kostrzynia', 'Lasy Łukowskie',\n",
       "       'Ujście Warty', 'Dolina Dolnej Noteci', 'Nadnoteckie Łęgi',\n",
       "       'Dolina Środkowej Noteci', 'Puszcza Notecka', 'Dolina Samicy',\n",
       "       'Dolina Małej Wełny', 'Jeziora Pszczewskie i dolina Obry',\n",
       "       'Jezioro Zgierzynieckie', 'Dolina Środkowej Odry',\n",
       "       'Wielki Łęg Obrzański', 'Pojezierze Sławskie', 'Zbiornik Wonieść',\n",
       "       'Ostoja Rogalińska', 'Dolina Środkowej Warty',\n",
       "       'Ostoja Nadgoplańska', 'Zbiornik Jeziorsko', 'Dolina Neru',\n",
       "       'Dolina Bzury', 'Błota Rakutowskie', 'Żwirownia Skoki',\n",
       "       'Dolina Środkowej Wisły', 'Puszcza Kampinoska', 'Bagno Całowanie',\n",
       "       'Bory Dolnośląskie', 'Stawy Przemkowskie', 'Zbiornik Mietkowski',\n",
       "       'Łęgi Odrzańskie', 'Grądy Odrzańskie', 'Zbiornik Turawski',\n",
       "       'Dolina Baryczy', 'Dąbrowy Krotoszyńskie', 'Dolina Pilicy',\n",
       "       'Puszcza Kozienicka', 'Małopolski Przełom Wisły', 'Dolina Nidy',\n",
       "       'Dolina Tyśmienicy', 'Lasy Parczewskie', 'Zbiornik Podedworze',\n",
       "       'Uroczystko Mosty-Zahajki', 'Polesie', 'Bagno Bubnów',\n",
       "       'Dolina Środkowego Bugu', 'Chełmskie Torfowiska Węglanowe',\n",
       "       'Lasy Strzeleckie', 'Dolina Poru', 'Zbiornik w Nieliszu',\n",
       "       'Lasy Janowskie', 'Puszcza Solska', 'Roztocze',\n",
       "       'Dolina Górnej Łabuńki', 'Ostoja Tyszowiecka',\n",
       "       'Zlewnia Górnej Huczwy', 'Dolina Szyszły', 'Dolina Sołokiji',\n",
       "       'Karkonosze', 'Góry Stołowe', 'Zbiornik Otmuchowski',\n",
       "       'Zbiornik Nyski', 'Stawy Wielikąt i Las Tworkowski',\n",
       "       'Dolina Górnej Wisły', 'Stawy w Brzeszczach', 'Dolina Dolnej Soły',\n",
       "       'Dolina Dolnej Skawy', 'Puszcza Niepołomicka', 'Beskid Żywiecki',\n",
       "       'Babia Góra', 'Pasmo Policy', 'Torfowiska Orawsko-Nowotarskie',\n",
       "       'Tatry', 'Gorce', 'Pieniny', 'Beskid Niski', 'Pogórze Przemyskie',\n",
       "       'Góry Słonne', 'Bieszczady', 'BAGNO PULWY', 'BESKID ŚLĄSKI',\n",
       "       'BESKID WYSPOWY', 'BUCZYNY GRZĘDY SOKALSKIEJ', 'DOLINA CZARNEJ',\n",
       "       'DOLINA DOLNEGO SANU', 'DOLINA DOLNEGO WIEPRZA',\n",
       "       'DOLINA PRZYSOWY i SŁUDWI', 'Dolina Widawy i Oleśnicy',\n",
       "       'Góry Izerskie', 'Jezioro Karaś', 'Kuźnica Warężyńska',\n",
       "       'Lasy Radłowskie', 'Lasy Sieniawskie', 'Mierzeja Wiślana',\n",
       "       'Niecka Włoszczowska', 'Ostoja Konińska', 'Ostoja Kurpiowska',\n",
       "       'Ostoja Kwiecewo', 'Ostoja Mircze', 'Ostoja Popradzka',\n",
       "       'Ostoja Sątopy-Samulewo', 'Potorfia nad Wieprzem',\n",
       "       'Półwysep Helski', 'Puszcza Sandomierska',\n",
       "       'Stawy Jaktorów i Kraśnicza Wola',\n",
       "       'Sudety Wałbrzysko-Kamiennogórskie', 'Świętokrzyska Dolina Wisły',\n",
       "       'Wrocławskie Pola Irygacyjne', 'Wysoczyzna Elbląska',\n",
       "       'Struga Średzka', 'Zbiornik Siemianówka', 'Ławica Słupska',\n",
       "       'Przybrzeżne Wody Bałtyku', 'Zatoka Pomorska',\n",
       "       'Wschodnie Wody Przygraniczne'], dtype=object)"
      ]
     },
     "execution_count": 9,
     "metadata": {},
     "output_type": "execute_result"
    }
   ],
   "source": [
    "df['nazwa_ostoi'].unique()"
   ]
  },
  {
   "cell_type": "code",
   "execution_count": 10,
   "id": "fedcfb79-26af-4051-a158-b3e785f2809b",
   "metadata": {},
   "outputs": [],
   "source": [
    "df_bielik = df[df['nazwa_polska'] == \"bielik\"]"
   ]
  },
  {
   "cell_type": "code",
   "execution_count": 11,
   "id": "d9a3c010-c850-4129-8443-4f25af1b1187",
   "metadata": {},
   "outputs": [
    {
     "data": {
      "text/plain": [
       "array(['2004-2009', '2005-2007', '2004-2008', '2002-2008', '2005-2009',\n",
       "       '2007-2008', '2007-2009', '1995-2008', '2008', '1997-2003',\n",
       "       '1995-2003', '2008-2009', '2009', '1996-2003', '2001-2004, 2008',\n",
       "       '2001-2004, 2009', '2003-2009', '2006-2009', '2000-2003',\n",
       "       '2001-2002', '2005-2008', '1999-2003', '2006', '2007', '1998-2009',\n",
       "       '2003-2007', '2004-2005', '2002-2009', '2006-2007', '2000-2009',\n",
       "       '2004-2006'], dtype=object)"
      ]
     },
     "execution_count": 11,
     "metadata": {},
     "output_type": "execute_result"
    }
   ],
   "source": [
    "df_bielik[df_bielik['dokladnosc_oszac'] == \"dokładne liczenie\"][\"rok\"].unique()"
   ]
  },
  {
   "cell_type": "code",
   "execution_count": 12,
   "id": "35c26e55-5ec5-4f61-bca9-4a70ce715f49",
   "metadata": {},
   "outputs": [],
   "source": [
    "def get_df_ptak(nazwa_ptaka, nazwa_ostoi):\n",
    "    df_ptak = df[(df['nazwa_polska'] == nazwa_ptaka) & (df['dokladnosc_oszac'] == \"dokładne liczenie\")]\n",
    "    df_ptak = df_ptak[df['nazwa_ostoi'] == nazwa_ostoi]\n",
    "    return df_ptak"
   ]
  },
  {
   "cell_type": "code",
   "execution_count": 13,
   "id": "da408e80-b839-4ac0-886f-e53b012d59ae",
   "metadata": {},
   "outputs": [
    {
     "name": "stderr",
     "output_type": "stream",
     "text": [
      "C:\\Users\\pawel.gliwny.FIS\\AppData\\Local\\Temp\\ipykernel_6696\\2011041227.py:3: UserWarning: Boolean Series key will be reindexed to match DataFrame index.\n",
      "  df_ptak = df_ptak[df['nazwa_ostoi'] == nazwa_ostoi]\n"
     ]
    }
   ],
   "source": [
    "df_bielik = get_df_ptak(\"bielik\", \"Puszcza Borecka\")"
   ]
  },
  {
   "cell_type": "code",
   "execution_count": 14,
   "id": "3333809c-d3df-4f44-8d1c-bc30fac1cc47",
   "metadata": {},
   "outputs": [
    {
     "data": {
      "text/plain": [
       "array(['Puszcza Borecka'], dtype=object)"
      ]
     },
     "execution_count": 14,
     "metadata": {},
     "output_type": "execute_result"
    }
   ],
   "source": [
    "df_bielik[df_bielik['dokladnosc_oszac'] == \"dokładne liczenie\"][\"nazwa_ostoi\"].unique()"
   ]
  },
  {
   "cell_type": "code",
   "execution_count": null,
   "id": "fa06a842-320d-4960-870a-93890f6b8b6e",
   "metadata": {},
   "outputs": [],
   "source": []
  },
  {
   "cell_type": "code",
   "execution_count": 15,
   "id": "082fd8c9-8747-4802-917b-3fefcdbf0d4b",
   "metadata": {},
   "outputs": [],
   "source": [
    "df_nuroges = df[df['nazwa_polska'] == \"nurogęś\"]"
   ]
  },
  {
   "cell_type": "code",
   "execution_count": 16,
   "id": "1ebb8483-00ea-4241-9399-cda52df1a329",
   "metadata": {},
   "outputs": [
    {
     "data": {
      "text/html": [
       "<div>\n",
       "<style scoped>\n",
       "    .dataframe tbody tr th:only-of-type {\n",
       "        vertical-align: middle;\n",
       "    }\n",
       "\n",
       "    .dataframe tbody tr th {\n",
       "        vertical-align: top;\n",
       "    }\n",
       "\n",
       "    .dataframe thead th {\n",
       "        text-align: right;\n",
       "    }\n",
       "</style>\n",
       "<table border=\"1\" class=\"dataframe\">\n",
       "  <thead>\n",
       "    <tr style=\"text-align: right;\">\n",
       "      <th></th>\n",
       "      <th>ptak_nr</th>\n",
       "      <th>id</th>\n",
       "      <th>kod_ostoi</th>\n",
       "      <th>nazwa_ostoi</th>\n",
       "      <th>nazwa_polska</th>\n",
       "      <th>nazwa_lacinska</th>\n",
       "      <th>status</th>\n",
       "      <th>liczba_par_min</th>\n",
       "      <th>liczba_par_max</th>\n",
       "      <th>dokladnosc_oszac</th>\n",
       "      <th>kryterium</th>\n",
       "      <th>rok</th>\n",
       "      <th>aktualne</th>\n",
       "    </tr>\n",
       "  </thead>\n",
       "  <tbody>\n",
       "    <tr>\n",
       "      <th>1</th>\n",
       "      <td>36.0</td>\n",
       "      <td>3580</td>\n",
       "      <td>PL001</td>\n",
       "      <td>Delta Świny</td>\n",
       "      <td>nurogęś</td>\n",
       "      <td>Mergus merganser</td>\n",
       "      <td>M</td>\n",
       "      <td>5000.0</td>\n",
       "      <td>12000.0</td>\n",
       "      <td>NaN</td>\n",
       "      <td>NaN</td>\n",
       "      <td>1995-1997</td>\n",
       "      <td>nie</td>\n",
       "    </tr>\n",
       "    <tr>\n",
       "      <th>60</th>\n",
       "      <td>36.0</td>\n",
       "      <td>12210</td>\n",
       "      <td>PL001</td>\n",
       "      <td>Delta Świny</td>\n",
       "      <td>nurogęś</td>\n",
       "      <td>Mergus merganser</td>\n",
       "      <td>P/Z</td>\n",
       "      <td>5000.0</td>\n",
       "      <td>14000.0</td>\n",
       "      <td>przybliżony szacunek</td>\n",
       "      <td>NaN</td>\n",
       "      <td>2004-2009</td>\n",
       "      <td>tak</td>\n",
       "    </tr>\n",
       "    <tr>\n",
       "      <th>104</th>\n",
       "      <td>36.0</td>\n",
       "      <td>3628</td>\n",
       "      <td>PL002</td>\n",
       "      <td>Zalew Szczeciński</td>\n",
       "      <td>nurogęś</td>\n",
       "      <td>Mergus merganser</td>\n",
       "      <td>M</td>\n",
       "      <td>10000.0</td>\n",
       "      <td>50000.0</td>\n",
       "      <td>NaN</td>\n",
       "      <td>C3,C4</td>\n",
       "      <td>1997-1999</td>\n",
       "      <td>nie</td>\n",
       "    </tr>\n",
       "    <tr>\n",
       "      <th>163</th>\n",
       "      <td>36.0</td>\n",
       "      <td>12418</td>\n",
       "      <td>PL002</td>\n",
       "      <td>Zalew Szczeciński</td>\n",
       "      <td>nurogęś</td>\n",
       "      <td>Mergus merganser</td>\n",
       "      <td>M</td>\n",
       "      <td>30000.0</td>\n",
       "      <td>50000.0</td>\n",
       "      <td>przybliżony szacunek</td>\n",
       "      <td>NaN</td>\n",
       "      <td>2004-2009</td>\n",
       "      <td>tak</td>\n",
       "    </tr>\n",
       "    <tr>\n",
       "      <th>164</th>\n",
       "      <td>36.0</td>\n",
       "      <td>12419</td>\n",
       "      <td>PL002</td>\n",
       "      <td>Zalew Szczeciński</td>\n",
       "      <td>nurogęś</td>\n",
       "      <td>Mergus merganser</td>\n",
       "      <td>Z</td>\n",
       "      <td>30000.0</td>\n",
       "      <td>30000.0</td>\n",
       "      <td>dokładne liczenie</td>\n",
       "      <td>NaN</td>\n",
       "      <td>2004-2009</td>\n",
       "      <td>tak</td>\n",
       "    </tr>\n",
       "  </tbody>\n",
       "</table>\n",
       "</div>"
      ],
      "text/plain": [
       "     ptak_nr     id kod_ostoi        nazwa_ostoi nazwa_polska  \\\n",
       "1       36.0   3580     PL001        Delta Świny      nurogęś   \n",
       "60      36.0  12210     PL001        Delta Świny      nurogęś   \n",
       "104     36.0   3628     PL002  Zalew Szczeciński      nurogęś   \n",
       "163     36.0  12418     PL002  Zalew Szczeciński      nurogęś   \n",
       "164     36.0  12419     PL002  Zalew Szczeciński      nurogęś   \n",
       "\n",
       "       nazwa_lacinska status  liczba_par_min  liczba_par_max  \\\n",
       "1    Mergus merganser      M          5000.0         12000.0   \n",
       "60   Mergus merganser    P/Z          5000.0         14000.0   \n",
       "104  Mergus merganser      M         10000.0         50000.0   \n",
       "163  Mergus merganser      M         30000.0         50000.0   \n",
       "164  Mergus merganser      Z         30000.0         30000.0   \n",
       "\n",
       "         dokladnosc_oszac kryterium        rok aktualne  \n",
       "1                     NaN       NaN  1995-1997      nie  \n",
       "60   przybliżony szacunek       NaN  2004-2009      tak  \n",
       "104                   NaN     C3,C4  1997-1999      nie  \n",
       "163  przybliżony szacunek       NaN  2004-2009      tak  \n",
       "164     dokładne liczenie       NaN  2004-2009      tak  "
      ]
     },
     "execution_count": 16,
     "metadata": {},
     "output_type": "execute_result"
    }
   ],
   "source": [
    "df_nuroges.head()"
   ]
  },
  {
   "cell_type": "code",
   "execution_count": 55,
   "id": "421e5c88-f7a5-405b-a823-20bdfd4544d6",
   "metadata": {
    "scrolled": true
   },
   "outputs": [],
   "source": [
    "df = pd.DataFrame([\n",
    "    ['apple', 4],\n",
    "    ['apple', 4.5],\n",
    "    ['orange', 5],\n",
    "    ['pear', 6],\n",
    "], columns=['fruit', 'price'])"
   ]
  },
  {
   "cell_type": "code",
   "execution_count": 56,
   "id": "f95ccaab-4e53-435b-b97e-a6c42618eaca",
   "metadata": {},
   "outputs": [
    {
     "data": {
      "application/vnd.jupyter.widget-view+json": {
       "model_id": "e91a6b03f93740bea9045f90bd53eba1",
       "version_major": 2,
       "version_minor": 0
      },
      "text/plain": [
       "interactive(children=(Select(description='fruit', options=('apple', 'orange', 'pear'), value='apple'), Output(…"
      ]
     },
     "execution_count": 56,
     "metadata": {},
     "output_type": "execute_result"
    }
   ],
   "source": [
    "def view1(fruit):\n",
    "    display(df[df['fruit']==fruit])\n",
    "\n",
    "fruitSelect = widgets.Select(options=['apple', 'orange' ,'pear'])\n",
    "widgets.interactive(view1, fruit=fruitSelect)"
   ]
  },
  {
   "cell_type": "code",
   "execution_count": 57,
   "id": "2136002e-ba4f-4ed4-b1e8-a770230bb247",
   "metadata": {},
   "outputs": [
    {
     "data": {
      "application/vnd.jupyter.widget-view+json": {
       "model_id": "69d6af25c7534b118ed4ab167c80eb30",
       "version_major": 2,
       "version_minor": 0
      },
      "text/plain": [
       "interactive(children=(Select(description='rok', options=('1995-1997', '1997-1999', '2004-2009'), value='1995-1…"
      ]
     },
     "execution_count": 57,
     "metadata": {},
     "output_type": "execute_result"
    }
   ],
   "source": [
    "def view_ptak(rok):\n",
    "    display(df_nuroges[df_nuroges['rok'] == rok])\n",
    "\n",
    "rokSelect = widgets.Select(options=['1995-1997', '1997-1999', '2004-2009'])\n",
    "widgets.interactive(view_ptak, rok=rokSelect)"
   ]
  },
  {
   "cell_type": "code",
   "execution_count": null,
   "id": "b6a0cde1-797c-4749-b2a3-52b7d7c0118b",
   "metadata": {},
   "outputs": [],
   "source": []
  }
 ],
 "metadata": {
  "kernelspec": {
   "display_name": "Python 3 (ipykernel)",
   "language": "python",
   "name": "python3"
  },
  "language_info": {
   "codemirror_mode": {
    "name": "ipython",
    "version": 3
   },
   "file_extension": ".py",
   "mimetype": "text/x-python",
   "name": "python",
   "nbconvert_exporter": "python",
   "pygments_lexer": "ipython3",
   "version": "3.8.18"
  }
 },
 "nbformat": 4,
 "nbformat_minor": 5
}
